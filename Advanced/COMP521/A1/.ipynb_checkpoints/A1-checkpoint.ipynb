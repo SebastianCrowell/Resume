{
 "cells": [
  {
   "cell_type": "markdown",
   "metadata": {},
   "source": [
    "# Assignment 1 Comp 521 Spring 2021\n",
    "\n",
    "Answer each question below by filling in code at the point indicated.\n",
    "Do not modify any of the other cells. \n",
    "\n",
    "You __must__ run the cells in order. It looks like you can come back later after restarting and pick up where you left off but that is not the case. When restarting you always have to start at the top of the notebook and run each cell in turn. "
   ]
  },
  {
   "cell_type": "code",
   "execution_count": 1,
   "metadata": {},
   "outputs": [],
   "source": [
    "# fill in the information below\n",
    "Author = 'srainer'\n",
    "Collaborators = ['srainer']"
   ]
  },
  {
   "cell_type": "code",
   "execution_count": 2,
   "metadata": {},
   "outputs": [],
   "source": [
    "# checker setup do NOT change this\n",
    "import comp521\n",
    "check, report = comp521.start('A1')"
   ]
  },
  {
   "cell_type": "code",
   "execution_count": 3,
   "metadata": {},
   "outputs": [],
   "source": [
    "# setup, no need to change this\n",
    "import sqlite3"
   ]
  },
  {
   "cell_type": "markdown",
   "metadata": {},
   "source": [
    "For this assignment you have relations with these schemas\n",
    "\n",
    " ```sql\n",
    " create table Department (\n",
    "     did integer primary key, \n",
    "     name text)\n",
    "\n",
    " create table Course (\n",
    "     cid integer primary key,\n",
    "     did integer,\n",
    "     name text,\n",
    "     num integer,\n",
    "     creditHours integer,\n",
    "     foreign key (did) references Department)\n",
    "     \n",
    " create table Student (\n",
    "     sid integer primary key,\n",
    "     did integer,\n",
    "     fname text,\n",
    "     lname text,\n",
    "     foreign key (did) references Department)\n",
    "\n",
    " create table Enrolled_in (\n",
    "     eid integer primary key,\n",
    "     sid integer,\n",
    "     cid integer,\n",
    "     foreign key (sid) references Student,\n",
    "     foreign key (cid) references Course)\n",
    "       \n",
    " ```\n",
    "\n",
    "\n",
    "\n",
    "I will open the database for you below. "
   ]
  },
  {
   "cell_type": "code",
   "execution_count": 4,
   "metadata": {},
   "outputs": [],
   "source": [
    "# do not change this\n",
    "db = sqlite3.connect('CourseEnrollment.sqlite')\n",
    "cursor = db.cursor()"
   ]
  },
  {
   "cell_type": "markdown",
   "metadata": {},
   "source": [
    "For the next three questions write a SQL query that produces a result that is equivalent to the Relational Algebra expression. I will execute the SQL query for you.\n",
    "\n",
    "## Question 1\n",
    "\n",
    "Translate this Relational Algebra expression into SQL: $\\pi_{name} \\sigma_{num < 500} Course$"
   ]
  },
  {
   "cell_type": "code",
   "execution_count": 31,
   "metadata": {},
   "outputs": [
    {
     "name": "stdout",
     "output_type": "stream",
     "text": [
      "Q1 appears correct\n"
     ]
    }
   ],
   "source": [
    "# write your SQL expression here\n",
    "sql1 = 'SELECT DISTINCT name from Course WHERE num < 500;'\n",
    "\n",
    "\n",
    "# checking code. Do NOT change this.\n",
    "cursor.execute(sql1)\n",
    "c1 = cursor.fetchall()\n",
    "check('Q1', c1, points=5, sort=True)"
   ]
  },
  {
   "cell_type": "markdown",
   "metadata": {},
   "source": [
    "## Question 2\n",
    "\n",
    "$\\pi_{fname,lname}\\sigma_{name='Files\\ and\\ Databases'}(Student\\bowtie Enrolled\\_In \\bowtie Course)$\n",
    "\n"
   ]
  },
  {
   "cell_type": "code",
   "execution_count": 41,
   "metadata": {},
   "outputs": [
    {
     "name": "stdout",
     "output_type": "stream",
     "text": [
      "Q2 appears correct\n"
     ]
    }
   ],
   "source": [
    "# Assign your result to c2\n",
    "sql2 = 'SELECT DISTINCT S.fname, S.lname FROM Student S, Enrolled_In E, Course C INNER JOIN Student ON S.sid = E.sid AND E.cid = C.cid WHERE C.name = \"Files and Databases\"'\n",
    "\n",
    "# checking\n",
    "cursor.execute(sql2)\n",
    "c2 = cursor.fetchall()\n",
    "check('Q2', c2, points=5, sort=True)"
   ]
  },
  {
   "cell_type": "markdown",
   "metadata": {},
   "source": [
    "## Question 3\n",
    "$ \\pi_{fname,lname} \\sigma_{name='ANTH'} (Student \\bowtie Department) $"
   ]
  },
  {
   "cell_type": "code",
   "execution_count": 47,
   "metadata": {},
   "outputs": [
    {
     "name": "stdout",
     "output_type": "stream",
     "text": [
      "Q3 appears correct\n"
     ]
    }
   ],
   "source": [
    "# assign to c3\n",
    "sql3 = 'SELECT DISTINCT S.fname, S.lname FROM Student S, Department D INNER JOIN Student ON S.did = D.did WHERE D.name = \"ANTH\"'\n",
    "\n",
    "# checking\n",
    "cursor.execute(sql3)\n",
    "c3 = cursor.fetchall()\n",
    "check('Q3', c3, points=5, sort=True)"
   ]
  },
  {
   "cell_type": "markdown",
   "metadata": {},
   "source": [
    "## Question 4\n",
    "$ \\pi_{name} \\sigma_{creditHours=3} Course $"
   ]
  },
  {
   "cell_type": "code",
   "execution_count": 49,
   "metadata": {},
   "outputs": [
    {
     "name": "stdout",
     "output_type": "stream",
     "text": [
      "Q4 appears correct\n"
     ]
    }
   ],
   "source": [
    "# assign to sql4\n",
    "sql4 = 'SELECT DISTINCT C.name FROM Course C WHERE C.creditHours = 3'\n",
    "\n",
    "# checking\n",
    "cursor.execute(sql4)\n",
    "c4 = cursor.fetchall()\n",
    "check('Q4', c4, points=5, sort=True)"
   ]
  },
  {
   "cell_type": "markdown",
   "metadata": {},
   "source": [
    "For these next questions, write a SQL query to fetch the requested information. From here on, I want you\n",
    "to write the Python code as well as the query. The questions above provide an example of what you must type.\n",
    "\n",
    "## Question 5\n",
    "Find the names of all 4 credit hour courses."
   ]
  },
  {
   "cell_type": "code",
   "execution_count": 57,
   "metadata": {},
   "outputs": [
    {
     "name": "stdout",
     "output_type": "stream",
     "text": [
      "[('Software Engineering Laboratory',), ('Anthropology of the Body and the Subject',)]\n",
      "Q5 appears correct\n"
     ]
    }
   ],
   "source": [
    "# your code here\n",
    "sql5 = 'SELECT name FROM Course WHERE creditHours > 3'\n",
    "cursor.execute(sql5)\n",
    "c5 = cursor.fetchall() # the result of fetch all goes in this variable\n",
    "# print(c5)\n",
    "check('Q5', c5, points=10, sort=True)"
   ]
  },
  {
   "cell_type": "markdown",
   "metadata": {},
   "source": [
    "## Question 6\n",
    "Find the first and last names of all students enrolled in COMP courses."
   ]
  },
  {
   "cell_type": "code",
   "execution_count": 99,
   "metadata": {},
   "outputs": [
    {
     "name": "stdout",
     "output_type": "stream",
     "text": [
      "[('MARY', 'Smith'), ('PATRICIA', 'Johnson'), ('JAMES', 'Williams'), ('ROBERT', 'Jones'), ('MICHAEL', 'Brown'), ('LINDA', 'Miller'), ('DAVID', 'Moore')]\n",
      "Q6 appears correct\n"
     ]
    }
   ],
   "source": [
    "# your code here\n",
    "sql6 = 'SELECT DISTINCT S.fname, S.lname FROM Student S, Department D, Course C, Enrolled_in E WHERE C.did = D.did AND D.name = \"COMP\" AND E.cid = C.cid AND E.sid = S.sid'\n",
    "cursor.execute(sql6)\n",
    "c6 = cursor.fetchall() # the result of fetch all goes in this variable\n",
    "# print(c6)\n",
    "check('Q6', c6, points=10, sort=True)"
   ]
  },
  {
   "cell_type": "markdown",
   "metadata": {},
   "source": [
    "## Question 7\n",
    "Find the first and last names of all students enrolled in courses of at least 500 level."
   ]
  },
  {
   "cell_type": "code",
   "execution_count": 101,
   "metadata": {},
   "outputs": [
    {
     "name": "stdout",
     "output_type": "stream",
     "text": [
      "[('MARY', 'Smith'), ('PATRICIA', 'Johnson'), ('JAMES', 'Williams'), ('ROBERT', 'Jones'), ('MICHAEL', 'Brown'), ('WILLIAM', 'Davis'), ('LINDA', 'Miller'), ('DAVID', 'Moore')]\n",
      "Q7 appears correct\n"
     ]
    }
   ],
   "source": [
    "# your code here\n",
    "sql7 = 'SELECT DISTINCT s.fname, s.lname FROM Student S, Course C, Enrolled_in E WHERE S.sid = E.sid AND C.cid = E.cid AND C.num > 500'\n",
    "cursor.execute(sql7)\n",
    "c7 = cursor.fetchall() # the result of fetch all goes in this variable\n",
    "# print(c7)\n",
    "check('Q7', c7, points=10, sort=True)"
   ]
  },
  {
   "cell_type": "markdown",
   "metadata": {},
   "source": [
    "## Question 8\n",
    "Find the first and last names of all students enrolled in 'Data Structures' and 'Anthropology of the Body and the Subject'."
   ]
  },
  {
   "cell_type": "code",
   "execution_count": 270,
   "metadata": {},
   "outputs": [
    {
     "name": "stdout",
     "output_type": "stream",
     "text": [
      "[('MARY', 'Smith'), ('JAMES', 'Williams')]\n",
      "Q8 appears correct\n"
     ]
    }
   ],
   "source": [
    "# your code here\n",
    "sql8 = ('''\n",
    "SELECT DISTINCT s.fname, s.lname \n",
    "FROM Student S, Course C1, Enrolled_in E1,\n",
    "                Course C2, Enrolled_in E2\n",
    "WHERE S.sid = E1.sid AND E1.cid = C1.cid \n",
    "and S.sid = E2.sid AND E2.cid = C2.cid\n",
    "AND (C1.name = \"Anthropology of the Body and the Subject\" AND C2.name = \"Data Structures\")\n",
    "''')\n",
    "cursor.execute(sql8)\n",
    "c8 = cursor.fetchall() # the result of fetch all goes in this variable\n",
    "# print(c8)\n",
    "check('Q8', c8, points=15, sort=True)"
   ]
  },
  {
   "cell_type": "markdown",
   "metadata": {},
   "source": [
    "## Done!\n",
    "\n",
    "Now get your report and submit your assignment. We will post submission instructions separately."
   ]
  },
  {
   "cell_type": "code",
   "execution_count": 271,
   "metadata": {},
   "outputs": [
    {
     "name": "stdout",
     "output_type": "stream",
     "text": [
      "  Collaborators: ['srainer']\n",
      "Report for srainer\n",
      "  8 of 8 appear correct, 65 of 65 points\n"
     ]
    }
   ],
   "source": [
    "report(Author, Collaborators)"
   ]
  }
 ],
 "metadata": {
  "kernelspec": {
   "display_name": "Python 3",
   "language": "python",
   "name": "python3"
  },
  "language_info": {
   "codemirror_mode": {
    "name": "ipython",
    "version": 3
   },
   "file_extension": ".py",
   "mimetype": "text/x-python",
   "name": "python",
   "nbconvert_exporter": "python",
   "pygments_lexer": "ipython3",
   "version": "3.8.3"
  },
  "toc": {
   "base_numbering": 1,
   "nav_menu": {},
   "number_sections": true,
   "sideBar": true,
   "skip_h1_title": false,
   "title_cell": "Table of Contents",
   "title_sidebar": "Contents",
   "toc_cell": false,
   "toc_position": {},
   "toc_section_display": true,
   "toc_window_display": false
  }
 },
 "nbformat": 4,
 "nbformat_minor": 1
}
