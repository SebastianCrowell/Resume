{
 "cells": [
  {
   "cell_type": "markdown",
   "metadata": {},
   "source": [
    "# Comp 521 Fall 2018 Assignment 2\n",
    "__Assigned__: 20 September 2018  \n",
    "__Due__: 4 October 2018"
   ]
  },
  {
   "cell_type": "code",
   "execution_count": 1,
   "metadata": {},
   "outputs": [],
   "source": [
    "# fill in your info here\n",
    "onyen = \"srainer\"\n",
    "collaborators = [\"srainer\"]"
   ]
  },
  {
   "cell_type": "markdown",
   "metadata": {},
   "source": [
    "Download and unzip [movies.db.zip](http://gb.cs.unc.edu/~kmp/movies.db.zip) to produce a movies.db file in your working folder. This database is about 836 megabytes so some of the queries may take a while, __start early__.  This database has the following schema:\n",
    "```\n",
    "Customers (\n",
    "    cardNo INTEGER PRIMARY KEY,\n",
    "    first TEXT,\n",
    "    last TEXT,\n",
    "    sex CHAR,\n",
    "    dob DATE\n",
    ")\n",
    "\n",
    "Movies (\n",
    "    movieId INTEGER PRIMARY KEY,\n",
    "    title TEXT,\n",
    "    year INTEGER\n",
    ")\n",
    "\n",
    "Rentals (\n",
    "    cardNo INTEGER,\n",
    "    movieId INTEGER,\n",
    "    date DATE,\n",
    "    rating INTEGER,\n",
    "    PRIMARY KEY(cardNo, movieID, date),\n",
    "    FOREIGN KEY (cardNo) REFERENCES Customers,\n",
    "    FOREIGN KEY (movieId) REFERENCES Movies\n",
    ")\n",
    "```\n",
    "\n",
    "Write code in the cells below to answer each question."
   ]
  },
  {
   "cell_type": "code",
   "execution_count": 2,
   "metadata": {},
   "outputs": [],
   "source": [
    "# setup\n",
    "import sqlite3\n",
    "conn = sqlite3.connect('movies.db')\n",
    "cursor = conn.cursor()\n",
    "\n",
    "import comp521\n",
    "check, report = comp521.start('A2')"
   ]
  },
  {
   "cell_type": "markdown",
   "metadata": {},
   "source": [
    "## 1. Find the following using SQL queries"
   ]
  },
  {
   "cell_type": "markdown",
   "metadata": {},
   "source": [
    "__1a. How many male customers are there?__"
   ]
  },
  {
   "cell_type": "code",
   "execution_count": 3,
   "metadata": {},
   "outputs": [
    {
     "name": "stdout",
     "output_type": "stream",
     "text": [
      "1a appears correct\n"
     ]
    }
   ],
   "source": [
    "# write your query as a single string here\n",
    "a1a = \"\"\"\n",
    "SELECT COUNT(*) FROM Customers C\n",
    "WHERE C.sex == \"M\";\n",
    "\"\"\"\n",
    "\n",
    "# code to execute your query, leave this alone\n",
    "q1a = cursor.execute(a1a).fetchone()[0]\n",
    "check('1a', q1a, points=10)"
   ]
  },
  {
   "cell_type": "markdown",
   "metadata": {},
   "source": [
    "__1b. How many movies were released in either 2004 or 2006?__"
   ]
  },
  {
   "cell_type": "code",
   "execution_count": 4,
   "metadata": {},
   "outputs": [
    {
     "name": "stdout",
     "output_type": "stream",
     "text": [
      "1b appears correct\n"
     ]
    }
   ],
   "source": [
    "a1b = \"\"\"\n",
    "SELECT COUNT(*) FROM Movies M\n",
    "WHERE M.year == 2004 OR M.year == 2006;\n",
    "\"\"\"\n",
    "\n",
    "# test code\n",
    "q1b = cursor.execute(a1b).fetchone()[0]\n",
    "check('1b', q1b, points=10)"
   ]
  },
  {
   "cell_type": "markdown",
   "metadata": {},
   "source": [
    "__1c. What are the first and last names of the oldest customers in alphabetical order by last and first name?__"
   ]
  },
  {
   "cell_type": "code",
   "execution_count": 5,
   "metadata": {},
   "outputs": [
    {
     "name": "stdout",
     "output_type": "stream",
     "text": [
      "1c appears correct\n"
     ]
    }
   ],
   "source": [
    "a1c = \"\"\"\n",
    "SELECT C.first, C.last FROM Customers C\n",
    "WHERE C.dob == (SELECT MIN(C.dob) FROM Customers C)\n",
    "ORDER BY C.last, C.first;\n",
    "\"\"\"\n",
    "\n",
    "#print(q1c)\n",
    "\n",
    "# test\n",
    "q1c = cursor.execute(a1c).fetchall()\n",
    "check('1c', q1c, points=10)"
   ]
  },
  {
   "cell_type": "markdown",
   "metadata": {},
   "source": [
    "__1d. How many customers were born before January 1st, 1950 (not inclusive)?__"
   ]
  },
  {
   "cell_type": "code",
   "execution_count": 6,
   "metadata": {},
   "outputs": [
    {
     "name": "stdout",
     "output_type": "stream",
     "text": [
      "1d appears correct\n"
     ]
    }
   ],
   "source": [
    "a1d = \"\"\"\n",
    "SELECT COUNT(C.dob) FROM Customers C\n",
    "WHERE C.dob < \"1950-01-01\"\n",
    "\"\"\"\n",
    "#print(q1d)\n",
    "\n",
    "# test\n",
    "q1d = cursor.execute(a1d).fetchone()[0]\n",
    "check('1d', q1d, points=10)"
   ]
  },
  {
   "cell_type": "markdown",
   "metadata": {},
   "source": [
    "__1e. What is the average rating for all movies rented between January 1st 2000, and December 31st 2000 (inclusive)?__"
   ]
  },
  {
   "cell_type": "code",
   "execution_count": 7,
   "metadata": {},
   "outputs": [
    {
     "name": "stdout",
     "output_type": "stream",
     "text": [
      "1e appears correct\n"
     ]
    }
   ],
   "source": [
    "a1e = \"\"\"\n",
    "SELECT AVG(R.rating) FROM Rentals R\n",
    "WHERE R.date > \"2000-01-01\" AND R.date <= \"2000-12-31\"\n",
    "\"\"\"\n",
    "\n",
    "#print(q1e)\n",
    "\n",
    "# test\n",
    "q1e = cursor.execute(a1e).fetchone()[0]\n",
    "check('1e', q1e, points=10)"
   ]
  },
  {
   "cell_type": "markdown",
   "metadata": {},
   "source": [
    "## 2. Fill in the body of the functions below.\n",
    "\n",
    "__2a. Fill in code to make this function return a list with the titles of the films released in the given year, sorted alphabetically.__"
   ]
  },
  {
   "cell_type": "code",
   "execution_count": 8,
   "metadata": {},
   "outputs": [
    {
     "name": "stdout",
     "output_type": "stream",
     "text": [
      "2a appears correct\n"
     ]
    }
   ],
   "source": [
    "def f2a(year):\n",
    "    query_str = \"SELECT title FROM Movies WHERE year == ? ORDER BY title\"\n",
    "    query_res = []\n",
    "    query = (cursor.execute(query_str, (year,)).fetchall())\n",
    "    for x in query:\n",
    "        query_res.append(x[0])\n",
    "#    print(query_res)\n",
    "    return query_res\n",
    "\n",
    "q2a = f2a(1935)\n",
    "check('2a', q2a, points=10)"
   ]
  },
  {
   "cell_type": "markdown",
   "metadata": {},
   "source": [
    "__2b. Write a function that takes a string representing some part of a film title, and returns a list of tuples with the first and last names of customers who rented those films and rated them 3 or higher. Sort this list alphabetically by last name and first names.__\n"
   ]
  },
  {
   "cell_type": "code",
   "execution_count": 9,
   "metadata": {},
   "outputs": [
    {
     "name": "stdout",
     "output_type": "stream",
     "text": [
      "2b appears correct\n"
     ]
    }
   ],
   "source": [
    "def f2b(title):\n",
    "    query_str =\"SELECT DISTINCT first, last FROM Customers C, Movies M, Rentals R WHERE C.cardNo == R.cardNo AND M.movieId == R.movieId AND R.rating >= 3 AND M.title like '%\" + str(title) + \"%' ORDER BY last, first\"\n",
    "    query_res = (cursor.execute(query_str).fetchall())\n",
    "#    print(query_res)\n",
    "    return query_res\n",
    "\n",
    "q2b = f2b('rash Di')\n",
    "check('2b', q2b, points=20)"
   ]
  },
  {
   "cell_type": "markdown",
   "metadata": {},
   "source": [
    "__2c. Write a function that takes year as input, and returns a list of the titles of the most rented films among the films released that year.__"
   ]
  },
  {
   "cell_type": "code",
   "execution_count": 10,
   "metadata": {},
   "outputs": [
    {
     "name": "stdout",
     "output_type": "stream",
     "text": [
      "2c appears correct\n"
     ]
    }
   ],
   "source": [
    "def f2c(year):\n",
    "    query_str =\"SELECT title FROM Movies M, Rentals R WHERE M.movieId == R.movieId AND M.year == \" + str(year) + \" GROUP BY M.movieId ORDER BY Count(*) DESC\"\n",
    "    query_res = [(cursor.execute(query_str).fetchone()[0])]\n",
    "#    print(query_res)\n",
    "    return query_res\n",
    "\n",
    "q2c = f2c(2001)\n",
    "check('2c', q2c, points=20)  "
   ]
  },
  {
   "cell_type": "markdown",
   "metadata": {},
   "source": [
    "# Done!\n",
    "\n",
    "Now get your report, save, and submit your notebook. I recommend you restart the kernel, and run all, just to be sure things are going to work correctly when I run it."
   ]
  },
  {
   "cell_type": "code",
   "execution_count": 11,
   "metadata": {},
   "outputs": [
    {
     "name": "stdout",
     "output_type": "stream",
     "text": [
      "  Collaborators: ['srainer']\n",
      "Report for srainer\n",
      "  8 of 8 appear correct, 100 of 100 points\n"
     ]
    }
   ],
   "source": [
    "report(onyen, collaborators)"
   ]
  }
 ],
 "metadata": {
  "kernelspec": {
   "display_name": "Python 3",
   "language": "python",
   "name": "python3"
  },
  "language_info": {
   "codemirror_mode": {
    "name": "ipython",
    "version": 3
   },
   "file_extension": ".py",
   "mimetype": "text/x-python",
   "name": "python",
   "nbconvert_exporter": "python",
   "pygments_lexer": "ipython3",
   "version": "3.8.3"
  }
 },
 "nbformat": 4,
 "nbformat_minor": 1
}
